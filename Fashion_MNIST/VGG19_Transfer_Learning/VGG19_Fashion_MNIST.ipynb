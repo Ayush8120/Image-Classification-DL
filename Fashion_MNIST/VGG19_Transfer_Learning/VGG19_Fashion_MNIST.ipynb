{
  "nbformat": 4,
  "nbformat_minor": 0,
  "metadata": {
    "colab": {
      "name": "VGG19_Fashion_MNIST.ipynb",
      "provenance": [],
      "collapsed_sections": []
    },
    "kernelspec": {
      "name": "python3",
      "display_name": "Python 3"
    },
    "language_info": {
      "name": "python"
    },
    "accelerator": "GPU"
  },
  "cells": [
    {
      "cell_type": "markdown",
      "metadata": {
        "id": "Iuzpb0CwjNa3"
      },
      "source": [
        "# *Necessary Imports*"
      ]
    },
    {
      "cell_type": "code",
      "metadata": {
        "id": "u6O0UvRx0zcu"
      },
      "source": [
        "import numpy as np\n",
        "import pandas as pd\n",
        "import keras\n",
        "from keras.applications.vgg19 import VGG19\n",
        "from keras.models import Model\n",
        "from keras.layers import Dense,Dropout,Flatten\n",
        "from sklearn.preprocessing import LabelEncoder\n",
        "label_encoder = LabelEncoder()\n",
        "from tensorflow.keras.utils import to_categorical\n",
        "from keras.preprocessing.image import ImageDataGenerator\n",
        "from tensorflow.keras.callbacks import ModelCheckpoint\n",
        "import matplotlib.pyplot as plt\n",
        "%matplotlib inline\n",
        "import os\n",
        "from tqdm import tqdm\n",
        "from sklearn import preprocessing\n",
        "#from sklearn_model_selection import train_test_split\n",
        "import cv2\n"
      ],
      "execution_count": 20,
      "outputs": []
    },
    {
      "cell_type": "markdown",
      "metadata": {
        "id": "y5eF89VyjS9m"
      },
      "source": [
        "# **Loading the .npy files**\n",
        "*The csv were converted to npy in the CNN task and thus not repeated here*"
      ]
    },
    {
      "cell_type": "code",
      "metadata": {
        "colab": {
          "base_uri": "https://localhost:8080/"
        },
        "id": "okrxFFJI2UFR",
        "outputId": "37777e2e-0d23-4926-c7ee-cb8480182980"
      },
      "source": [
        "%cd /content/drive/MyDrive/URC/Fashion_MNIST/Test\n",
        "testX = np.load('fashion-mnist_test_X.npy') \n",
        "testY = np.load('fashion-mnist_test_Y.npy')\n",
        "\n",
        "%cd /content/drive/MyDrive/URC/Fashion_MNIST/Validation\n",
        "validationX = np.load('validation20k_X.npy')\n",
        "validationY = np.load('validation20k_Y.npy')\n",
        "\n",
        "%cd /content/drive/MyDrive/URC/Fashion_MNIST/Train\n",
        "trainX = np.load('fashion-mnist_train40k_X.npy')\n",
        "trainY = np.load('fashion-mnist_train40k_Y.npy')"
      ],
      "execution_count": 2,
      "outputs": [
        {
          "output_type": "stream",
          "text": [
            "/content/drive/MyDrive/URC/Fashion_MNIST/Test\n",
            "/content/drive/MyDrive/URC/Fashion_MNIST/Validation\n",
            "/content/drive/MyDrive/URC/Fashion_MNIST/Train\n"
          ],
          "name": "stdout"
        }
      ]
    },
    {
      "cell_type": "markdown",
      "metadata": {
        "id": "mQ3IIouzjubS"
      },
      "source": [
        "## Preprocessing Functions\n",
        "\n",
        "\n",
        "*   ***reshape_image()*** :\n",
        "\n",
        "  ~*VGG19 is only applicable to RGB images thus we concatenate the grayscale  image 3 times along the 4th dimension.*\n",
        "\n",
        "  ~*VGG19 needs a minimum dimension of 32x32 thus we pad the input by 2 units each*\n",
        "*   ***preprocessY()***:\n",
        "\n",
        " ~*converting the labels and Ydata in a form comprehendible by the network*\n",
        "\n"
      ]
    },
    {
      "cell_type": "code",
      "metadata": {
        "id": "QVaPz6yH2ZFW"
      },
      "source": [
        "def reshape_image (data, size):\n",
        "  data = np.array(data)\n",
        "  print(data.shape)\n",
        "  data = data.reshape(size, 28, 28)\n",
        "  data = np.repeat(data[..., np.newaxis], 3, -1) # concatenating 3 times in 4th dimension\n",
        "  data = np.pad(data,((0,0),(2,2),(2,2),(0,0)),mode = 'edge') \n",
        "  return data"
      ],
      "execution_count": 3,
      "outputs": []
    },
    {
      "cell_type": "code",
      "metadata": {
        "colab": {
          "base_uri": "https://localhost:8080/"
        },
        "id": "g3xkT_KI2bSU",
        "outputId": "1c2e84ec-918a-4dd0-d316-c887608f65b1"
      },
      "source": [
        "#trainX = reshape_image(trainX, trainX.shape[0])\n",
        "trainX = reshape_image(trainX, trainX.shape[0])\n",
        "testX = reshape_image(testX, testX.shape[0])\n",
        "validationX = reshape_image(validationX, validationX.shape[0])"
      ],
      "execution_count": 4,
      "outputs": [
        {
          "output_type": "stream",
          "text": [
            "(40000, 784)\n",
            "(10000, 784)\n",
            "(20000, 784)\n"
          ],
          "name": "stdout"
        }
      ]
    },
    {
      "cell_type": "code",
      "metadata": {
        "colab": {
          "base_uri": "https://localhost:8080/"
        },
        "id": "EL2Rv_fk-Jz9",
        "outputId": "731c7703-ab37-4c09-a59d-38b395431e6b"
      },
      "source": [
        "validationX.shape"
      ],
      "execution_count": 5,
      "outputs": [
        {
          "output_type": "execute_result",
          "data": {
            "text/plain": [
              "(20000, 32, 32, 3)"
            ]
          },
          "metadata": {
            "tags": []
          },
          "execution_count": 5
        }
      ]
    },
    {
      "cell_type": "code",
      "metadata": {
        "id": "xvvb4P5D2dQv"
      },
      "source": [
        "def preprocessY (lst):\n",
        "  integer_encoded = label_encoder.fit_transform(np.array(lst))\n",
        "  trainY = to_categorical(integer_encoded)\n",
        "  #trainY = to_categorical(lst)\n",
        "  return trainY"
      ],
      "execution_count": 6,
      "outputs": []
    },
    {
      "cell_type": "code",
      "metadata": {
        "id": "AemTI43f2fHu"
      },
      "source": [
        "trainY = preprocessY(trainY)\n",
        "testY = preprocessY(testY)\n",
        "validationY = preprocessY(validationY)"
      ],
      "execution_count": 7,
      "outputs": []
    },
    {
      "cell_type": "code",
      "metadata": {
        "colab": {
          "base_uri": "https://localhost:8080/"
        },
        "id": "Nw2iwTBi2fA9",
        "outputId": "a99f4a86-4ea5-4297-95c4-0373fe61fea2"
      },
      "source": [
        "trainX.shape"
      ],
      "execution_count": 8,
      "outputs": [
        {
          "output_type": "execute_result",
          "data": {
            "text/plain": [
              "(40000, 32, 32, 3)"
            ]
          },
          "metadata": {
            "tags": []
          },
          "execution_count": 8
        }
      ]
    },
    {
      "cell_type": "markdown",
      "metadata": {
        "id": "ZuIOedKJlIfI"
      },
      "source": [
        "# ***Importing the Pretrained Model***\n",
        "\n"
      ]
    },
    {
      "cell_type": "code",
      "metadata": {
        "colab": {
          "base_uri": "https://localhost:8080/"
        },
        "id": "PmQyxbru3x3f",
        "outputId": "380121ea-1ffc-4d12-c1a9-38068b07281d"
      },
      "source": [
        "from keras.applications.vgg19 import VGG19\n",
        "from keras.applications.vgg19 import preprocess_input\n",
        "\n",
        "base_model = VGG19(weights = 'imagenet' ,include_top = False, input_shape =(32,32,3), classes = 10)\n",
        "\n",
        "#reason for include_top - False as to train a new output layer according to our needs\n",
        "#pretrained weights are being used of 'imagenet' \n",
        "x = base_model.output\n",
        "\n",
        "#adding the output layer according to our classes required - 10\n",
        "x  = Flatten()(x)\n",
        "predictions = Dense(10,activation='softmax')(x)\n",
        "model = Model(inputs = base_model.input, outputs = predictions)\n",
        "\n",
        "#onl training the Dense Layer\n",
        "for layer in base_model.layers:\n",
        "  layer.trainable = False\n",
        "\n",
        "#Compiling the model\n",
        "model.compile(loss='categorical_crossentropy', \n",
        "              optimizer='adam', \n",
        "              metrics=['accuracy'])\n",
        "callbacks_list = [keras.callbacks.EarlyStopping(monitor='val_acc', patience=3, verbose=1)]\n",
        "model.summary()"
      ],
      "execution_count": 9,
      "outputs": [
        {
          "output_type": "stream",
          "text": [
            "Downloading data from https://storage.googleapis.com/tensorflow/keras-applications/vgg19/vgg19_weights_tf_dim_ordering_tf_kernels_notop.h5\n",
            "80142336/80134624 [==============================] - 1s 0us/step\n",
            "80150528/80134624 [==============================] - 1s 0us/step\n",
            "Model: \"model\"\n",
            "_________________________________________________________________\n",
            "Layer (type)                 Output Shape              Param #   \n",
            "=================================================================\n",
            "input_1 (InputLayer)         [(None, 32, 32, 3)]       0         \n",
            "_________________________________________________________________\n",
            "block1_conv1 (Conv2D)        (None, 32, 32, 64)        1792      \n",
            "_________________________________________________________________\n",
            "block1_conv2 (Conv2D)        (None, 32, 32, 64)        36928     \n",
            "_________________________________________________________________\n",
            "block1_pool (MaxPooling2D)   (None, 16, 16, 64)        0         \n",
            "_________________________________________________________________\n",
            "block2_conv1 (Conv2D)        (None, 16, 16, 128)       73856     \n",
            "_________________________________________________________________\n",
            "block2_conv2 (Conv2D)        (None, 16, 16, 128)       147584    \n",
            "_________________________________________________________________\n",
            "block2_pool (MaxPooling2D)   (None, 8, 8, 128)         0         \n",
            "_________________________________________________________________\n",
            "block3_conv1 (Conv2D)        (None, 8, 8, 256)         295168    \n",
            "_________________________________________________________________\n",
            "block3_conv2 (Conv2D)        (None, 8, 8, 256)         590080    \n",
            "_________________________________________________________________\n",
            "block3_conv3 (Conv2D)        (None, 8, 8, 256)         590080    \n",
            "_________________________________________________________________\n",
            "block3_conv4 (Conv2D)        (None, 8, 8, 256)         590080    \n",
            "_________________________________________________________________\n",
            "block3_pool (MaxPooling2D)   (None, 4, 4, 256)         0         \n",
            "_________________________________________________________________\n",
            "block4_conv1 (Conv2D)        (None, 4, 4, 512)         1180160   \n",
            "_________________________________________________________________\n",
            "block4_conv2 (Conv2D)        (None, 4, 4, 512)         2359808   \n",
            "_________________________________________________________________\n",
            "block4_conv3 (Conv2D)        (None, 4, 4, 512)         2359808   \n",
            "_________________________________________________________________\n",
            "block4_conv4 (Conv2D)        (None, 4, 4, 512)         2359808   \n",
            "_________________________________________________________________\n",
            "block4_pool (MaxPooling2D)   (None, 2, 2, 512)         0         \n",
            "_________________________________________________________________\n",
            "block5_conv1 (Conv2D)        (None, 2, 2, 512)         2359808   \n",
            "_________________________________________________________________\n",
            "block5_conv2 (Conv2D)        (None, 2, 2, 512)         2359808   \n",
            "_________________________________________________________________\n",
            "block5_conv3 (Conv2D)        (None, 2, 2, 512)         2359808   \n",
            "_________________________________________________________________\n",
            "block5_conv4 (Conv2D)        (None, 2, 2, 512)         2359808   \n",
            "_________________________________________________________________\n",
            "block5_pool (MaxPooling2D)   (None, 1, 1, 512)         0         \n",
            "_________________________________________________________________\n",
            "flatten (Flatten)            (None, 512)               0         \n",
            "_________________________________________________________________\n",
            "dense (Dense)                (None, 10)                5130      \n",
            "=================================================================\n",
            "Total params: 20,029,514\n",
            "Trainable params: 5,130\n",
            "Non-trainable params: 20,024,384\n",
            "_________________________________________________________________\n"
          ],
          "name": "stdout"
        }
      ]
    },
    {
      "cell_type": "code",
      "metadata": {
        "id": "OZCMHjJ_9A3O"
      },
      "source": [
        "#Augmenting the dataset so as to diversify it\n",
        "gen = ImageDataGenerator(rotation_range=8, width_shift_range=0.08, shear_range=0.3,\n",
        "                               height_shift_range=0.08, zoom_range=0.08)"
      ],
      "execution_count": 10,
      "outputs": []
    },
    {
      "cell_type": "markdown",
      "metadata": {
        "id": "4AnmfDKZl2xg"
      },
      "source": [
        "**Checkpoint Basics**"
      ]
    },
    {
      "cell_type": "code",
      "metadata": {
        "id": "vHEkjvDARTiR"
      },
      "source": [
        "checkpoint_path = \"/content/drive/MyDrive/URC/Fashion_MNIST/Checkpoints/VGG19/cp-{epoch:04d}.ckpt\"\n",
        "checkpoint_dir = os.path.dirname(checkpoint_path)\n",
        "\n",
        "# Create a callback that saves the model's weights\n",
        "cp_callback = ModelCheckpoint(filepath=checkpoint_path,\n",
        "                                                 save_weights_only=True,\n",
        "                                                 verbose=1)"
      ],
      "execution_count": 11,
      "outputs": []
    },
    {
      "cell_type": "markdown",
      "metadata": {
        "id": "Cj374dp9l9_K"
      },
      "source": [
        "Tweaking the batch_size parameters"
      ]
    },
    {
      "cell_type": "code",
      "metadata": {
        "id": "qGP1QkKsTLzh"
      },
      "source": [
        "input_shape=(32, 32, 3)\n",
        "#batch_size =128\n",
        "#after 21 epochs\n",
        "#batch_size = 64\n",
        "batch_size = 1024\n",
        "#batch_size = 4096"
      ],
      "execution_count": 61,
      "outputs": []
    },
    {
      "cell_type": "markdown",
      "metadata": {
        "id": "epkaGJBtmKRb"
      },
      "source": [
        "Loading weights in case of a crash"
      ]
    },
    {
      "cell_type": "code",
      "metadata": {
        "colab": {
          "base_uri": "https://localhost:8080/"
        },
        "id": "r43FJesOmJMK",
        "outputId": "ccc74ad3-6dc9-426a-82be-bbd141444b0d"
      },
      "source": [
        "model.load_weights('/content/drive/MyDrive/URC/Fashion_MNIST/Checkpoints/VGG19/cp-0056.ckpt')#.ckpt file of weights you want to load"
      ],
      "execution_count": 62,
      "outputs": [
        {
          "output_type": "execute_result",
          "data": {
            "text/plain": [
              "<tensorflow.python.training.tracking.util.CheckpointLoadStatus at 0x7f45163f9c50>"
            ]
          },
          "metadata": {
            "tags": []
          },
          "execution_count": 62
        }
      ]
    },
    {
      "cell_type": "markdown",
      "metadata": {
        "id": "DYkpFrN0mI34"
      },
      "source": [
        ""
      ]
    },
    {
      "cell_type": "markdown",
      "metadata": {
        "id": "_v1wJt54mDD9"
      },
      "source": [
        "The training cell"
      ]
    },
    {
      "cell_type": "code",
      "metadata": {
        "colab": {
          "base_uri": "https://localhost:8080/"
        },
        "id": "Vsvue9-ZQ9QL",
        "outputId": "e0218c26-fc86-49d8-f889-558e6b2ff885"
      },
      "source": [
        "#training cell\n",
        "history=model.fit_generator(gen.flow(trainX, trainY, batch_size), \n",
        "                    steps_per_epoch=trainY.shape[0]//batch_size, \n",
        "                    epochs=70, initial_epoch = 56, \n",
        "                    validation_data=gen.flow(validationX, validationY, batch_size),\n",
        "                    validation_steps=validationY.shape[0]//batch_size,\n",
        "                    callbacks=[cp_callback]\n",
        "                    )"
      ],
      "execution_count": 63,
      "outputs": [
        {
          "output_type": "stream",
          "text": [
            "/usr/local/lib/python3.7/dist-packages/tensorflow/python/keras/engine/training.py:1940: UserWarning: `Model.fit_generator` is deprecated and will be removed in a future version. Please use `Model.fit`, which supports generators.\n",
            "  warnings.warn('`Model.fit_generator` is deprecated and '\n"
          ],
          "name": "stderr"
        },
        {
          "output_type": "stream",
          "text": [
            "Epoch 57/70\n",
            "9/9 [==============================] - 50s 4s/step - loss: 0.4557 - accuracy: 0.8316 - val_loss: 0.5353 - val_accuracy: 0.8154\n",
            "\n",
            "Epoch 00057: saving model to /content/drive/MyDrive/URC/Fashion_MNIST/Checkpoints/VGG19/cp-0057.ckpt\n",
            "Epoch 58/70\n",
            "9/9 [==============================] - 25s 3s/step - loss: 0.4537 - accuracy: 0.8343 - val_loss: 0.5359 - val_accuracy: 0.8129\n",
            "\n",
            "Epoch 00058: saving model to /content/drive/MyDrive/URC/Fashion_MNIST/Checkpoints/VGG19/cp-0058.ckpt\n",
            "Epoch 59/70\n",
            "9/9 [==============================] - 26s 3s/step - loss: 0.4563 - accuracy: 0.8327 - val_loss: 0.5257 - val_accuracy: 0.8188\n",
            "\n",
            "Epoch 00059: saving model to /content/drive/MyDrive/URC/Fashion_MNIST/Checkpoints/VGG19/cp-0059.ckpt\n",
            "Epoch 60/70\n",
            "9/9 [==============================] - 25s 3s/step - loss: 0.4485 - accuracy: 0.8332 - val_loss: 0.5234 - val_accuracy: 0.8192\n",
            "\n",
            "Epoch 00060: saving model to /content/drive/MyDrive/URC/Fashion_MNIST/Checkpoints/VGG19/cp-0060.ckpt\n",
            "Epoch 61/70\n",
            "9/9 [==============================] - 25s 3s/step - loss: 0.4560 - accuracy: 0.8341 - val_loss: 0.5323 - val_accuracy: 0.8185\n",
            "\n",
            "Epoch 00061: saving model to /content/drive/MyDrive/URC/Fashion_MNIST/Checkpoints/VGG19/cp-0061.ckpt\n",
            "Epoch 62/70\n",
            "9/9 [==============================] - 25s 3s/step - loss: 0.4428 - accuracy: 0.8353 - val_loss: 0.5233 - val_accuracy: 0.8203\n",
            "\n",
            "Epoch 00062: saving model to /content/drive/MyDrive/URC/Fashion_MNIST/Checkpoints/VGG19/cp-0062.ckpt\n",
            "Epoch 63/70\n",
            "9/9 [==============================] - 25s 3s/step - loss: 0.4492 - accuracy: 0.8351 - val_loss: 0.5240 - val_accuracy: 0.8205\n",
            "\n",
            "Epoch 00063: saving model to /content/drive/MyDrive/URC/Fashion_MNIST/Checkpoints/VGG19/cp-0063.ckpt\n",
            "Epoch 64/70\n",
            "9/9 [==============================] - 25s 3s/step - loss: 0.4490 - accuracy: 0.8338 - val_loss: 0.5303 - val_accuracy: 0.8157\n",
            "\n",
            "Epoch 00064: saving model to /content/drive/MyDrive/URC/Fashion_MNIST/Checkpoints/VGG19/cp-0064.ckpt\n",
            "Epoch 65/70\n",
            "9/9 [==============================] - 25s 3s/step - loss: 0.4494 - accuracy: 0.8356 - val_loss: 0.5168 - val_accuracy: 0.8216\n",
            "\n",
            "Epoch 00065: saving model to /content/drive/MyDrive/URC/Fashion_MNIST/Checkpoints/VGG19/cp-0065.ckpt\n",
            "Epoch 66/70\n",
            "9/9 [==============================] - 25s 3s/step - loss: 0.4490 - accuracy: 0.8339 - val_loss: 0.5227 - val_accuracy: 0.8188\n",
            "\n",
            "Epoch 00066: saving model to /content/drive/MyDrive/URC/Fashion_MNIST/Checkpoints/VGG19/cp-0066.ckpt\n",
            "Epoch 67/70\n",
            "9/9 [==============================] - 25s 3s/step - loss: 0.4451 - accuracy: 0.8359 - val_loss: 0.5228 - val_accuracy: 0.8184\n",
            "\n",
            "Epoch 00067: saving model to /content/drive/MyDrive/URC/Fashion_MNIST/Checkpoints/VGG19/cp-0067.ckpt\n",
            "Epoch 68/70\n",
            "9/9 [==============================] - 25s 3s/step - loss: 0.4518 - accuracy: 0.8358 - val_loss: 0.5279 - val_accuracy: 0.8148\n",
            "\n",
            "Epoch 00068: saving model to /content/drive/MyDrive/URC/Fashion_MNIST/Checkpoints/VGG19/cp-0068.ckpt\n",
            "Epoch 69/70\n",
            "9/9 [==============================] - 25s 3s/step - loss: 0.4471 - accuracy: 0.8348 - val_loss: 0.5276 - val_accuracy: 0.8189\n",
            "\n",
            "Epoch 00069: saving model to /content/drive/MyDrive/URC/Fashion_MNIST/Checkpoints/VGG19/cp-0069.ckpt\n",
            "Epoch 70/70\n",
            "9/9 [==============================] - 25s 3s/step - loss: 0.4472 - accuracy: 0.8336 - val_loss: 0.5242 - val_accuracy: 0.8169\n",
            "\n",
            "Epoch 00070: saving model to /content/drive/MyDrive/URC/Fashion_MNIST/Checkpoints/VGG19/cp-0070.ckpt\n"
          ],
          "name": "stdout"
        }
      ]
    },
    {
      "cell_type": "markdown",
      "metadata": {
        "id": "NZfj7zJ0mTNq"
      },
      "source": [
        "Saving the model for further evaluation"
      ]
    },
    {
      "cell_type": "code",
      "metadata": {
        "id": "VDGCAZc5SZrV"
      },
      "source": [
        "model.save('/content/drive/MyDrive/URC/Fashion_MNIST/Checkpoints/VGG19/65iterationstrial5.h5')"
      ],
      "execution_count": 64,
      "outputs": []
    },
    {
      "cell_type": "markdown",
      "metadata": {
        "id": "z8KzaJPcmZGJ"
      },
      "source": [
        "Further Evaluation"
      ]
    },
    {
      "cell_type": "code",
      "metadata": {
        "id": "wFdAV6CMScqL"
      },
      "source": [
        "from tensorflow.keras.models import load_model"
      ],
      "execution_count": 65,
      "outputs": []
    },
    {
      "cell_type": "code",
      "metadata": {
        "id": "HnowwlO6SgFe"
      },
      "source": [
        " # loading the model\n",
        "\n",
        "#model = load_model('/content/drive/MyDrive/URC/Fashion_MNIST/Checkpoints/CNN/Model/model_bs_64_f_128each25epoch.h5')#88\n",
        "#model = load_model('/content/drive/MyDrive/URC/Fashion_MNIST/Checkpoints/CNN/Model/rough2.h5')#90\n",
        "model = load_model('/content/drive/MyDrive/URC/Fashion_MNIST/Checkpoints/VGG19/65iterationstrial5.h5')"
      ],
      "execution_count": 66,
      "outputs": []
    },
    {
      "cell_type": "code",
      "metadata": {
        "colab": {
          "base_uri": "https://localhost:8080/",
          "height": 545
        },
        "id": "s45QA8PYSh6Y",
        "outputId": "3e7a7a4d-ec61-4a4c-e8cc-8c34bed12652"
      },
      "source": [
        "#plotting the graphs\n",
        "\n",
        "#getting all the keys\n",
        "history.history.keys()\n",
        "his = history\n",
        "accuracy = his.history['accuracy']\n",
        "val_accuracy = his.history['val_accuracy']\n",
        "loss = his.history['loss']\n",
        "val_loss = his.history['val_loss']\n",
        "epochs = range(len(accuracy))\n",
        "\n",
        "#Training and Validation Accuracy vs Epoch\n",
        "plt.plot(epochs, accuracy, 'r', label='Training accuracy')\n",
        "plt.plot(epochs,val_accuracy,'b',label = 'Validation accuracy')\n",
        "plt.title('Training and Validation Accuracy')\n",
        "plt.legend()\n",
        "plt.figure()\n",
        "\n",
        "\n",
        "#Training Loss and Validation Loss vs Epoch\n",
        "plt.plot(epochs, loss, 'r', label='Training loss')\n",
        "plt.plot(epochs, val_loss, 'b', label='Validation loss')\n",
        "plt.title('Training and validation loss')\n",
        "plt.legend()\n",
        "plt.show()"
      ],
      "execution_count": 67,
      "outputs": [
        {
          "output_type": "display_data",
          "data": {
            "image/png": "[encoded data removed]",
            "text/plain": [
              "<Figure size 432x288 with 1 Axes>"
            ]
          },
          "metadata": {
            "tags": [],
            "needs_background": "light"
          }
        },
        {
          "output_type": "display_data",
          "data": {
            "image/png": "[encoded data removed]",
            "text/plain": [
              "<Figure size 432x288 with 1 Axes>"
            ]
          },
          "metadata": {
            "tags": [],
            "needs_background": "light"
          }
        }
      ]
    },
    {
      "cell_type": "code",
      "metadata": {
        "colab": {
          "base_uri": "https://localhost:8080/"
        },
        "id": "b2uulJTISmuH",
        "outputId": "54af8e77-b45f-4a18-abd3-09cd1fc9d051"
      },
      "source": [
        "#Testing Loss and Accuracy  \n",
        "score = model.evaluate(testX, testY, verbose = 0)\n",
        "print('Test Loss:' , score[0])\n",
        "print('Test accuracy', score[1])"
      ],
      "execution_count": 68,
      "outputs": [
        {
          "output_type": "stream",
          "text": [
            "Test Loss: 0.519935131072998\n",
            "Test accuracy 0.8185999989509583\n"
          ],
          "name": "stdout"
        }
      ]
    }
  ]
}